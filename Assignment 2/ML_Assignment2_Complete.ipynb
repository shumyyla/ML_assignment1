{
  "nbformat": 4,
  "nbformat_minor": 0,
  "metadata": {
    "colab": {
      "provenance": [],
      "authorship_tag": "ABX9TyMDdydx0DQY1WctMc1V/8tY",
      "include_colab_link": true
    },
    "kernelspec": {
      "name": "python3",
      "display_name": "Python 3"
    },
    "language_info": {
      "name": "python"
    }
  },
  "cells": [
    {
      "cell_type": "markdown",
      "metadata": {
        "id": "view-in-github",
        "colab_type": "text"
      },
      "source": [
        "<a href=\"https://colab.research.google.com/github/shumyyla/ML_assignment1/blob/main/ML_Assignment_2.ipynb\" target=\"_parent\"><img src=\"https://colab.research.google.com/assets/colab-badge.svg\" alt=\"Open In Colab\"/></a>"
      ]
    },
    {
      "cell_type": "markdown",
      "source": [
        "##**MSDSF22M016**\n",
        "##**Shumaila Zahid**\n",
        "##**Machine Learning Assignment\\# 2**"
      ],
      "metadata": {
        "id": "h1rY1Ie42AhM"
      }
    },
    {
      "cell_type": "code",
      "source": [
        "from google.colab import drive\n",
        "drive.mount('/content/drive')"
      ],
      "metadata": {
        "colab": {
          "base_uri": "https://localhost:8080/"
        },
        "id": "f2K3XmK-2af7",
        "outputId": "1fd7fed3-87ce-4bad-c524-d4424f763a24"
      },
      "execution_count": null,
      "outputs": [
        {
          "output_type": "stream",
          "name": "stdout",
          "text": [
            "Mounted at /content/drive\n"
          ]
        }
      ]
    },
    {
      "cell_type": "markdown",
      "source": [
        "###Importing Libraries"
      ],
      "metadata": {
        "id": "UeiHSdDw2zRl"
      }
    },
    {
      "cell_type": "code",
      "source": [
        "#import libraries\n",
        "import numpy as np \n",
        "import pandas as pd \n",
        "from sklearn.preprocessing import MinMaxScaler\n",
        "from sklearn.preprocessing import LabelEncoder , MinMaxScaler\n",
        "from sklearn.metrics import confusion_matrix , classification_report\n",
        "from sklearn.ensemble import GradientBoostingClassifier\n",
        "from sklearn.tree import DecisionTreeRegressor\n",
        "from xgboost import XGBRegressor\n",
        "from sklearn.model_selection import train_test_split \n",
        "from sklearn.metrics import accuracy_score\n",
        "from sklearn.metrics import mean_squared_error , r2_score"
      ],
      "metadata": {
        "id": "5JAxvy3x2eF9"
      },
      "execution_count": null,
      "outputs": []
    },
    {
      "cell_type": "markdown",
      "source": [
        "###Importing Dataset\n",
        "\n"
      ],
      "metadata": {
        "id": "bQS85EHK3EOy"
      }
    },
    {
      "cell_type": "code",
      "source": [
        "df = pd.read_csv('/content/drive/My Drive/Colab Notebooks/salarydata.csv')"
      ],
      "metadata": {
        "id": "6ebBsZrW3GzP"
      },
      "execution_count": null,
      "outputs": []
    },
    {
      "cell_type": "code",
      "source": [
        "x = df.drop(['fnlwgt' , 'salary' , 'education-num'] , axis=1)\n",
        "y = df['salary']"
      ],
      "metadata": {
        "id": "wFJnZm253JQa"
      },
      "execution_count": null,
      "outputs": []
    },
    {
      "cell_type": "code",
      "source": [
        "# performing feature scaling on the input data x using MinMaxScaler() \n",
        "std  = MinMaxScaler()\n",
        "x = pd.DataFrame(std.fit_transform(x) , columns=x.columns)\n",
        "x"
      ],
      "metadata": {
        "colab": {
          "base_uri": "https://localhost:8080/",
          "height": 424
        },
        "id": "LaNnWuty3d-U",
        "outputId": "de83fc05-b23d-4448-dfc6-353d21af82e4"
      },
      "execution_count": null,
      "outputs": [
        {
          "output_type": "execute_result",
          "data": {
            "text/plain": [
              "            age  workclass  education  marital-status  occupation  \\\n",
              "0      0.301370   0.833333   0.600000        0.666667    0.000000   \n",
              "1      0.452055   0.666667   0.600000        0.333333    0.230769   \n",
              "2      0.287671   0.333333   0.733333        0.000000    0.384615   \n",
              "3      0.493151   0.333333   0.066667        0.333333    0.384615   \n",
              "4      0.150685   0.333333   0.600000        0.333333    0.692308   \n",
              "...         ...        ...        ...             ...         ...   \n",
              "30713  0.136986   0.333333   0.466667        0.333333    0.923077   \n",
              "30714  0.315068   0.333333   0.733333        0.333333    0.461538   \n",
              "30715  0.561644   0.333333   0.733333        1.000000    0.000000   \n",
              "30716  0.068493   0.333333   0.733333        0.666667    0.000000   \n",
              "30717  0.479452   0.500000   0.733333        0.333333    0.230769   \n",
              "\n",
              "       relationship  race  sex  capital-gain  capital-loss  hours-per-week  \\\n",
              "0               0.2   1.0  1.0      0.021740           0.0        0.397959   \n",
              "1               0.0   1.0  1.0      0.000000           0.0        0.122449   \n",
              "2               0.2   1.0  1.0      0.000000           0.0        0.397959   \n",
              "3               0.0   0.5  1.0      0.000000           0.0        0.397959   \n",
              "4               1.0   0.5  0.0      0.000000           0.0        0.397959   \n",
              "...             ...   ...  ...           ...           ...             ...   \n",
              "30713           1.0   1.0  0.0      0.000000           0.0        0.377551   \n",
              "30714           0.0   1.0  1.0      0.000000           0.0        0.397959   \n",
              "30715           0.8   1.0  0.0      0.000000           0.0        0.397959   \n",
              "30716           0.6   1.0  1.0      0.000000           0.0        0.193878   \n",
              "30717           1.0   1.0  0.0      0.150242           0.0        0.397959   \n",
              "\n",
              "       native-country  \n",
              "0                 1.0  \n",
              "1                 1.0  \n",
              "2                 1.0  \n",
              "3                 1.0  \n",
              "4                 0.0  \n",
              "...               ...  \n",
              "30713             1.0  \n",
              "30714             1.0  \n",
              "30715             1.0  \n",
              "30716             1.0  \n",
              "30717             1.0  \n",
              "\n",
              "[30718 rows x 12 columns]"
            ],
            "text/html": [
              "\n",
              "  <div id=\"df-3836a985-990b-433b-af59-8d6f8993bc03\">\n",
              "    <div class=\"colab-df-container\">\n",
              "      <div>\n",
              "<style scoped>\n",
              "    .dataframe tbody tr th:only-of-type {\n",
              "        vertical-align: middle;\n",
              "    }\n",
              "\n",
              "    .dataframe tbody tr th {\n",
              "        vertical-align: top;\n",
              "    }\n",
              "\n",
              "    .dataframe thead th {\n",
              "        text-align: right;\n",
              "    }\n",
              "</style>\n",
              "<table border=\"1\" class=\"dataframe\">\n",
              "  <thead>\n",
              "    <tr style=\"text-align: right;\">\n",
              "      <th></th>\n",
              "      <th>age</th>\n",
              "      <th>workclass</th>\n",
              "      <th>education</th>\n",
              "      <th>marital-status</th>\n",
              "      <th>occupation</th>\n",
              "      <th>relationship</th>\n",
              "      <th>race</th>\n",
              "      <th>sex</th>\n",
              "      <th>capital-gain</th>\n",
              "      <th>capital-loss</th>\n",
              "      <th>hours-per-week</th>\n",
              "      <th>native-country</th>\n",
              "    </tr>\n",
              "  </thead>\n",
              "  <tbody>\n",
              "    <tr>\n",
              "      <th>0</th>\n",
              "      <td>0.301370</td>\n",
              "      <td>0.833333</td>\n",
              "      <td>0.600000</td>\n",
              "      <td>0.666667</td>\n",
              "      <td>0.000000</td>\n",
              "      <td>0.2</td>\n",
              "      <td>1.0</td>\n",
              "      <td>1.0</td>\n",
              "      <td>0.021740</td>\n",
              "      <td>0.0</td>\n",
              "      <td>0.397959</td>\n",
              "      <td>1.0</td>\n",
              "    </tr>\n",
              "    <tr>\n",
              "      <th>1</th>\n",
              "      <td>0.452055</td>\n",
              "      <td>0.666667</td>\n",
              "      <td>0.600000</td>\n",
              "      <td>0.333333</td>\n",
              "      <td>0.230769</td>\n",
              "      <td>0.0</td>\n",
              "      <td>1.0</td>\n",
              "      <td>1.0</td>\n",
              "      <td>0.000000</td>\n",
              "      <td>0.0</td>\n",
              "      <td>0.122449</td>\n",
              "      <td>1.0</td>\n",
              "    </tr>\n",
              "    <tr>\n",
              "      <th>2</th>\n",
              "      <td>0.287671</td>\n",
              "      <td>0.333333</td>\n",
              "      <td>0.733333</td>\n",
              "      <td>0.000000</td>\n",
              "      <td>0.384615</td>\n",
              "      <td>0.2</td>\n",
              "      <td>1.0</td>\n",
              "      <td>1.0</td>\n",
              "      <td>0.000000</td>\n",
              "      <td>0.0</td>\n",
              "      <td>0.397959</td>\n",
              "      <td>1.0</td>\n",
              "    </tr>\n",
              "    <tr>\n",
              "      <th>3</th>\n",
              "      <td>0.493151</td>\n",
              "      <td>0.333333</td>\n",
              "      <td>0.066667</td>\n",
              "      <td>0.333333</td>\n",
              "      <td>0.384615</td>\n",
              "      <td>0.0</td>\n",
              "      <td>0.5</td>\n",
              "      <td>1.0</td>\n",
              "      <td>0.000000</td>\n",
              "      <td>0.0</td>\n",
              "      <td>0.397959</td>\n",
              "      <td>1.0</td>\n",
              "    </tr>\n",
              "    <tr>\n",
              "      <th>4</th>\n",
              "      <td>0.150685</td>\n",
              "      <td>0.333333</td>\n",
              "      <td>0.600000</td>\n",
              "      <td>0.333333</td>\n",
              "      <td>0.692308</td>\n",
              "      <td>1.0</td>\n",
              "      <td>0.5</td>\n",
              "      <td>0.0</td>\n",
              "      <td>0.000000</td>\n",
              "      <td>0.0</td>\n",
              "      <td>0.397959</td>\n",
              "      <td>0.0</td>\n",
              "    </tr>\n",
              "    <tr>\n",
              "      <th>...</th>\n",
              "      <td>...</td>\n",
              "      <td>...</td>\n",
              "      <td>...</td>\n",
              "      <td>...</td>\n",
              "      <td>...</td>\n",
              "      <td>...</td>\n",
              "      <td>...</td>\n",
              "      <td>...</td>\n",
              "      <td>...</td>\n",
              "      <td>...</td>\n",
              "      <td>...</td>\n",
              "      <td>...</td>\n",
              "    </tr>\n",
              "    <tr>\n",
              "      <th>30713</th>\n",
              "      <td>0.136986</td>\n",
              "      <td>0.333333</td>\n",
              "      <td>0.466667</td>\n",
              "      <td>0.333333</td>\n",
              "      <td>0.923077</td>\n",
              "      <td>1.0</td>\n",
              "      <td>1.0</td>\n",
              "      <td>0.0</td>\n",
              "      <td>0.000000</td>\n",
              "      <td>0.0</td>\n",
              "      <td>0.377551</td>\n",
              "      <td>1.0</td>\n",
              "    </tr>\n",
              "    <tr>\n",
              "      <th>30714</th>\n",
              "      <td>0.315068</td>\n",
              "      <td>0.333333</td>\n",
              "      <td>0.733333</td>\n",
              "      <td>0.333333</td>\n",
              "      <td>0.461538</td>\n",
              "      <td>0.0</td>\n",
              "      <td>1.0</td>\n",
              "      <td>1.0</td>\n",
              "      <td>0.000000</td>\n",
              "      <td>0.0</td>\n",
              "      <td>0.397959</td>\n",
              "      <td>1.0</td>\n",
              "    </tr>\n",
              "    <tr>\n",
              "      <th>30715</th>\n",
              "      <td>0.561644</td>\n",
              "      <td>0.333333</td>\n",
              "      <td>0.733333</td>\n",
              "      <td>1.000000</td>\n",
              "      <td>0.000000</td>\n",
              "      <td>0.8</td>\n",
              "      <td>1.0</td>\n",
              "      <td>0.0</td>\n",
              "      <td>0.000000</td>\n",
              "      <td>0.0</td>\n",
              "      <td>0.397959</td>\n",
              "      <td>1.0</td>\n",
              "    </tr>\n",
              "    <tr>\n",
              "      <th>30716</th>\n",
              "      <td>0.068493</td>\n",
              "      <td>0.333333</td>\n",
              "      <td>0.733333</td>\n",
              "      <td>0.666667</td>\n",
              "      <td>0.000000</td>\n",
              "      <td>0.6</td>\n",
              "      <td>1.0</td>\n",
              "      <td>1.0</td>\n",
              "      <td>0.000000</td>\n",
              "      <td>0.0</td>\n",
              "      <td>0.193878</td>\n",
              "      <td>1.0</td>\n",
              "    </tr>\n",
              "    <tr>\n",
              "      <th>30717</th>\n",
              "      <td>0.479452</td>\n",
              "      <td>0.500000</td>\n",
              "      <td>0.733333</td>\n",
              "      <td>0.333333</td>\n",
              "      <td>0.230769</td>\n",
              "      <td>1.0</td>\n",
              "      <td>1.0</td>\n",
              "      <td>0.0</td>\n",
              "      <td>0.150242</td>\n",
              "      <td>0.0</td>\n",
              "      <td>0.397959</td>\n",
              "      <td>1.0</td>\n",
              "    </tr>\n",
              "  </tbody>\n",
              "</table>\n",
              "<p>30718 rows × 12 columns</p>\n",
              "</div>\n",
              "      <button class=\"colab-df-convert\" onclick=\"convertToInteractive('df-3836a985-990b-433b-af59-8d6f8993bc03')\"\n",
              "              title=\"Convert this dataframe to an interactive table.\"\n",
              "              style=\"display:none;\">\n",
              "        \n",
              "  <svg xmlns=\"http://www.w3.org/2000/svg\" height=\"24px\"viewBox=\"0 0 24 24\"\n",
              "       width=\"24px\">\n",
              "    <path d=\"M0 0h24v24H0V0z\" fill=\"none\"/>\n",
              "    <path d=\"M18.56 5.44l.94 2.06.94-2.06 2.06-.94-2.06-.94-.94-2.06-.94 2.06-2.06.94zm-11 1L8.5 8.5l.94-2.06 2.06-.94-2.06-.94L8.5 2.5l-.94 2.06-2.06.94zm10 10l.94 2.06.94-2.06 2.06-.94-2.06-.94-.94-2.06-.94 2.06-2.06.94z\"/><path d=\"M17.41 7.96l-1.37-1.37c-.4-.4-.92-.59-1.43-.59-.52 0-1.04.2-1.43.59L10.3 9.45l-7.72 7.72c-.78.78-.78 2.05 0 2.83L4 21.41c.39.39.9.59 1.41.59.51 0 1.02-.2 1.41-.59l7.78-7.78 2.81-2.81c.8-.78.8-2.07 0-2.86zM5.41 20L4 18.59l7.72-7.72 1.47 1.35L5.41 20z\"/>\n",
              "  </svg>\n",
              "      </button>\n",
              "      \n",
              "  <style>\n",
              "    .colab-df-container {\n",
              "      display:flex;\n",
              "      flex-wrap:wrap;\n",
              "      gap: 12px;\n",
              "    }\n",
              "\n",
              "    .colab-df-convert {\n",
              "      background-color: #E8F0FE;\n",
              "      border: none;\n",
              "      border-radius: 50%;\n",
              "      cursor: pointer;\n",
              "      display: none;\n",
              "      fill: #1967D2;\n",
              "      height: 32px;\n",
              "      padding: 0 0 0 0;\n",
              "      width: 32px;\n",
              "    }\n",
              "\n",
              "    .colab-df-convert:hover {\n",
              "      background-color: #E2EBFA;\n",
              "      box-shadow: 0px 1px 2px rgba(60, 64, 67, 0.3), 0px 1px 3px 1px rgba(60, 64, 67, 0.15);\n",
              "      fill: #174EA6;\n",
              "    }\n",
              "\n",
              "    [theme=dark] .colab-df-convert {\n",
              "      background-color: #3B4455;\n",
              "      fill: #D2E3FC;\n",
              "    }\n",
              "\n",
              "    [theme=dark] .colab-df-convert:hover {\n",
              "      background-color: #434B5C;\n",
              "      box-shadow: 0px 1px 3px 1px rgba(0, 0, 0, 0.15);\n",
              "      filter: drop-shadow(0px 1px 2px rgba(0, 0, 0, 0.3));\n",
              "      fill: #FFFFFF;\n",
              "    }\n",
              "  </style>\n",
              "\n",
              "      <script>\n",
              "        const buttonEl =\n",
              "          document.querySelector('#df-3836a985-990b-433b-af59-8d6f8993bc03 button.colab-df-convert');\n",
              "        buttonEl.style.display =\n",
              "          google.colab.kernel.accessAllowed ? 'block' : 'none';\n",
              "\n",
              "        async function convertToInteractive(key) {\n",
              "          const element = document.querySelector('#df-3836a985-990b-433b-af59-8d6f8993bc03');\n",
              "          const dataTable =\n",
              "            await google.colab.kernel.invokeFunction('convertToInteractive',\n",
              "                                                     [key], {});\n",
              "          if (!dataTable) return;\n",
              "\n",
              "          const docLinkHtml = 'Like what you see? Visit the ' +\n",
              "            '<a target=\"_blank\" href=https://colab.research.google.com/notebooks/data_table.ipynb>data table notebook</a>'\n",
              "            + ' to learn more about interactive tables.';\n",
              "          element.innerHTML = '';\n",
              "          dataTable['output_type'] = 'display_data';\n",
              "          await google.colab.output.renderOutput(dataTable, element);\n",
              "          const docLink = document.createElement('div');\n",
              "          docLink.innerHTML = docLinkHtml;\n",
              "          element.appendChild(docLink);\n",
              "        }\n",
              "      </script>\n",
              "    </div>\n",
              "  </div>\n",
              "  "
            ]
          },
          "metadata": {},
          "execution_count": 86
        }
      ]
    },
    {
      "cell_type": "markdown",
      "source": [
        "##Step 1\n",
        "Summary of training at least three linear regression models or any three models of your choice, all use the same training and test splits, or the same cross-validation method."
      ],
      "metadata": {
        "id": "rsj3jPG54Mhk"
      }
    },
    {
      "cell_type": "code",
      "source": [
        "#spliting the data into training and testing sets\n",
        "\n",
        "x_train , x_test , y_train , y_test = train_test_split(x , y , train_size=0.8 , random_state=44)"
      ],
      "metadata": {
        "id": "HFppMKCV4TXK"
      },
      "execution_count": null,
      "outputs": []
    },
    {
      "cell_type": "code",
      "source": [
        "print(x_train.shape)\n",
        "print(x_test.shape)\n",
        "print(y_train.shape)\n",
        "print(y_test.shape)"
      ],
      "metadata": {
        "colab": {
          "base_uri": "https://localhost:8080/"
        },
        "id": "U_JAzQiz4oeu",
        "outputId": "7c9a3772-43c1-4249-9761-e9db354ac753"
      },
      "execution_count": null,
      "outputs": [
        {
          "output_type": "stream",
          "name": "stdout",
          "text": [
            "(24574, 12)\n",
            "(6144, 12)\n",
            "(24574,)\n",
            "(6144,)\n"
          ]
        }
      ]
    },
    {
      "cell_type": "markdown",
      "source": [
        "##1. Gradient Boosting Classifier"
      ],
      "metadata": {
        "id": "7MCBfFuC5D1g"
      }
    },
    {
      "cell_type": "code",
      "source": [
        "#Training model on the training data\n",
        "gbm = GradientBoostingClassifier().fit(x_train,y_train)\n",
        "#making predictions on the test set x_test\n",
        "y_pred = gbm.predict(x_test)\n",
        "\n",
        "accuracy = accuracy_score(y_test, y_pred)\n",
        "\n",
        "print(\"Accuracy on Test Data: {:.2f}\".format(accuracy*100 ),'%')"
      ],
      "metadata": {
        "colab": {
          "base_uri": "https://localhost:8080/"
        },
        "id": "j3x8vCIr4vGB",
        "outputId": "655a65a3-9f10-4ea9-b948-434df255a3bc"
      },
      "execution_count": null,
      "outputs": [
        {
          "output_type": "stream",
          "name": "stdout",
          "text": [
            "Accuracy on Test Data: 85.87 %\n"
          ]
        }
      ]
    },
    {
      "cell_type": "code",
      "source": [
        "#Report of the main classification metrics for Gradient Boosting Classifier\n",
        "\n",
        "print(classification_report(y_test,y_pred))"
      ],
      "metadata": {
        "colab": {
          "base_uri": "https://localhost:8080/"
        },
        "id": "TI6iW34b5MH1",
        "outputId": "1e765712-488e-4383-97f4-2e7eb9f81b48"
      },
      "execution_count": null,
      "outputs": [
        {
          "output_type": "stream",
          "name": "stdout",
          "text": [
            "              precision    recall  f1-score   support\n",
            "\n",
            "           0       0.88      0.94      0.91      4620\n",
            "           1       0.78      0.61      0.68      1524\n",
            "\n",
            "    accuracy                           0.86      6144\n",
            "   macro avg       0.83      0.77      0.79      6144\n",
            "weighted avg       0.85      0.86      0.85      6144\n",
            "\n"
          ]
        }
      ]
    },
    {
      "cell_type": "code",
      "source": [
        "#Checking R2 Score and MSE\n",
        "\n",
        "mse = mean_squared_error(y_test, y_pred)\n",
        "r2 = r2_score(y_test, y_pred)\n",
        "\n",
        "print(\"Mean squared error:\", mse)\n",
        "print(\"R-squared:\", r2)"
      ],
      "metadata": {
        "colab": {
          "base_uri": "https://localhost:8080/"
        },
        "id": "J05vi2Us6Foj",
        "outputId": "6c5c3afa-f59d-4a1a-e021-c685d5cd78ec"
      },
      "execution_count": null,
      "outputs": [
        {
          "output_type": "stream",
          "name": "stdout",
          "text": [
            "Mean squared error: 0.14127604166666666\n",
            "R-squared: 0.24256740634693386\n"
          ]
        }
      ]
    },
    {
      "cell_type": "markdown",
      "source": [
        "##2. Decision Tree"
      ],
      "metadata": {
        "id": "1gXxUoyY51Ru"
      }
    },
    {
      "cell_type": "code",
      "source": [
        "#nstantiating a Decision Tree Regressor model with a maximum depth of 9 and a minimum number of samples required to split an internal node of 8\n",
        "dt = DecisionTreeRegressor(max_depth=9, min_samples_split=8)"
      ],
      "metadata": {
        "id": "aUqLtPKK5U9l"
      },
      "execution_count": null,
      "outputs": []
    },
    {
      "cell_type": "code",
      "source": [
        "#train the decision tree regression model on the training data \n",
        "dt.fit(x_train, y_train)"
      ],
      "metadata": {
        "id": "pV5r7-RL59KI"
      },
      "execution_count": null,
      "outputs": []
    },
    {
      "cell_type": "code",
      "source": [
        "#using the trained DecisionTreeRegressor model dt to make predictions on the test set x_test\n",
        "y_pred = dt.predict(x_test)"
      ],
      "metadata": {
        "id": "TOS7zW-45-tv"
      },
      "execution_count": null,
      "outputs": []
    },
    {
      "cell_type": "code",
      "source": [
        "# checks if the number of unique classes is 2 or more, and based on that, converts the labels to the appropriate format.\n",
        "if len(np.unique(y_test)) == 2:\n",
        "    # Convert binary labels to 0/1 format\n",
        "    y_test_labels = np.where(y_test > 0.5, 1, 0)\n",
        "    y_pred_labels = np.where(y_pred > 0.5, 1, 0)\n",
        "else:\n",
        "    # Convert multiclass labels to integer format\n",
        "    y_test_labels = np.argmax(y_test, axis=1)\n",
        "    y_pred_labels = np.argmax(y_pred, axis=1)"
      ],
      "metadata": {
        "id": "OZMHK2OR6Aji"
      },
      "execution_count": null,
      "outputs": []
    },
    {
      "cell_type": "code",
      "source": [
        "#Report of the main classification metrics for Decision Tree\n",
        "print(classification_report(y_test_labels, y_pred_labels))"
      ],
      "metadata": {
        "colab": {
          "base_uri": "https://localhost:8080/"
        },
        "id": "Fcg9ZIIj7xam",
        "outputId": "ea6e24b6-c44c-4938-c09f-28915e3397c4"
      },
      "execution_count": null,
      "outputs": [
        {
          "output_type": "stream",
          "name": "stdout",
          "text": [
            "              precision    recall  f1-score   support\n",
            "\n",
            "           0       0.87      0.94      0.90      4620\n",
            "           1       0.75      0.59      0.66      1524\n",
            "\n",
            "    accuracy                           0.85      6144\n",
            "   macro avg       0.81      0.76      0.78      6144\n",
            "weighted avg       0.84      0.85      0.84      6144\n",
            "\n"
          ]
        }
      ]
    },
    {
      "cell_type": "code",
      "source": [
        "#Checking R2 Score and MSE\n",
        "mse = mean_squared_error(y_test, y_pred)\n",
        "r2 = r2_score(y_test, y_pred)\n",
        "print(\"Mean squared error:\", mse)\n",
        "print(\"R-squared:\", r2)"
      ],
      "metadata": {
        "colab": {
          "base_uri": "https://localhost:8080/"
        },
        "id": "zHNMeXxp6kOw",
        "outputId": "e941ddf3-814a-44dd-c206-8e8922c3b391"
      },
      "execution_count": null,
      "outputs": [
        {
          "output_type": "stream",
          "name": "stdout",
          "text": [
            "Mean squared error: 0.10375738836924496\n",
            "R-squared: 0.4437186457374507\n"
          ]
        }
      ]
    },
    {
      "cell_type": "markdown",
      "source": [
        "##3. XG Boost"
      ],
      "metadata": {
        "id": "EOaXTQo767pt"
      }
    },
    {
      "cell_type": "code",
      "source": [
        "#Initializing an XGBoost regressor object with specific hyperparameters.\n",
        "xgb = XGBRegressor(n_estimators=140, learning_rate=0.2, max_depth=5)"
      ],
      "metadata": {
        "id": "NlpAoeX06p-h"
      },
      "execution_count": null,
      "outputs": []
    },
    {
      "cell_type": "code",
      "source": [
        "#Trainig the model on training data\n",
        "xgb.fit(x_train, y_train)\n"
      ],
      "metadata": {
        "id": "29XVkuW_84oC"
      },
      "execution_count": null,
      "outputs": []
    },
    {
      "cell_type": "code",
      "source": [
        "#Making predictions on test data\n",
        "y_pred = xgb.predict(x_test)"
      ],
      "metadata": {
        "id": "7XBqLdYqvX8e"
      },
      "execution_count": null,
      "outputs": []
    },
    {
      "cell_type": "code",
      "source": [
        "# checks if the number of unique classes is 2 or more, and based on that, converts the labels to the appropriate format.\n",
        "if len(np.unique(y_test)) == 2:\n",
        "    # Convert binary labels to 0/1 format\n",
        "    y_test_labels = np.where(y_test > 0.5, 1, 0)\n",
        "    y_pred_labels = np.where(y_pred > 0.5, 1, 0)\n",
        "else:\n",
        "    # Convert multiclass labels to integer format\n",
        "    y_test_labels = np.argmax(y_test, axis=1)\n",
        "    y_pred_labels = np.argmax(y_pred, axis=1)"
      ],
      "metadata": {
        "id": "9V5uvU1N9SyM"
      },
      "execution_count": null,
      "outputs": []
    },
    {
      "cell_type": "code",
      "source": [
        "#Report of the main classification metrics for XG Boost\n",
        "print(classification_report(y_test_labels, y_pred_labels))"
      ],
      "metadata": {
        "colab": {
          "base_uri": "https://localhost:8080/"
        },
        "id": "W1wNmKY29Xiz",
        "outputId": "d8a9f828-d339-4c50-ab8d-84d0a5c8f5c7"
      },
      "execution_count": null,
      "outputs": [
        {
          "output_type": "stream",
          "name": "stdout",
          "text": [
            "              precision    recall  f1-score   support\n",
            "\n",
            "           0       0.89      0.94      0.91      4620\n",
            "           1       0.77      0.64      0.70      1524\n",
            "\n",
            "    accuracy                           0.86      6144\n",
            "   macro avg       0.83      0.79      0.81      6144\n",
            "weighted avg       0.86      0.86      0.86      6144\n",
            "\n"
          ]
        }
      ]
    },
    {
      "cell_type": "code",
      "source": [
        "#Checking R2 Score and MSE\n",
        "mse = mean_squared_error(y_test, y_pred)\n",
        "r2 = r2_score(y_test, y_pred)\n",
        "print(\"Mean squared error:\", mse)\n",
        "print(\"R-squared:\", r2)"
      ],
      "metadata": {
        "colab": {
          "base_uri": "https://localhost:8080/"
        },
        "id": "VOQnpt0w9fC4",
        "outputId": "b13feba7-a48c-48ee-9fb9-6eece96cf61c"
      },
      "execution_count": null,
      "outputs": [
        {
          "output_type": "stream",
          "name": "stdout",
          "text": [
            "Mean squared error: 0.09464947086761118\n",
            "R-squared: 0.4925495267180885\n"
          ]
        }
      ]
    },
    {
      "cell_type": "markdown",
      "source": [
        "#Step 2\n",
        "\n",
        "A paragraph explaining which of your model you recommend as a final model that best fits your needs in terms of accuracy and explainability"
      ],
      "metadata": {
        "id": "-LhCnemH_Lrs"
      }
    },
    {
      "cell_type": "markdown",
      "source": [
        "---\n",
        "Based on the evaluation metrics, I recommend the XGBoost model as the final \n",
        "model that best fits our needs in terms of accuracy and explainability. XGBoost performed consistently well across all evaluation metrics, including mean squared error and R-squared, and had the highest accuracy among the three models evaluated. Additionally, XGBoost is highly interpretable, allowing us to understand the factors driving its predictions and identify important features in the dataset. This interpretability is critical to understanding the model's predictions and making informed decisions based on its outputs. Therefore, XGBoost is the most suitable model for our needs, balancing accuracy and interpretability."
      ],
      "metadata": {
        "id": "H8kwxT72AJI7"
      }
    },
    {
      "cell_type": "markdown",
      "source": [
        "#Step 3\n",
        "Summary Key Findings and Insights, which walks your reader through the main drivers of your model and insights from your data derived from your model."
      ],
      "metadata": {
        "id": "X4fln_GN_l0i"
      }
    },
    {
      "cell_type": "markdown",
      "source": [
        "---\n",
        "The goal is to predict whether an individual's salary is above or below 50k.\n",
        "XGBoost, decision tree, and Gradient Boosting Classifier are all popular machine learning models that are well-suited for classification problems.\n",
        "1.  **XGBoost** is known for its high accuracy and ability to handle complex relationships between variables, making it a popular choice for many data scientists.\n",
        "2.  **Decision trees** are a simple yet powerful model that can easily handle categorical variables, which are abundant in my dataset. \n",
        "3.  **Gradient Boosting Classifier** is also a strong model for classification tasks and can handle complex non-linear relationships between variables. And it is specifically designed for classification problems.\n",
        "\n",
        "* The most important drivers of the salary prediction model were found to be features such as workclass, education, native-country, and occupation. \n",
        "These features had a significant impact on the salary outcome and helped to improve the accuracy of the model.\n",
        "\n",
        "* One key insight from the data was the importance of feature engineering and data preprocessing. By selecting and transforming the right set of features, the model was able to identify patterns in the data that were not immediately apparent to humans.\n",
        "\n",
        "* The use of machine learning algorithms such as XGBoost, Gradient Boosting, and Decision Tree helped to improve the accuracy of the model. These algorithms were able to handle non-linear relationships and high-dimensional data, which made them well-suited for the salary prediction task.\n",
        "\n",
        "The use of machine learning algorithms such as XGBoost, Gradient Boosting, and Decision Tree can improve the accuracy of salary prediction models. The key drivers of the model are the features used, and feature engineering and data preprocessing are crucial for improving the accuracy of the model. The insights gained from the model's predictions can provide valuable information to both employers and job seekers.\n"
      ],
      "metadata": {
        "id": "Lfe2GRR7H_na"
      }
    },
    {
      "cell_type": "markdown",
      "source": [
        "#Step 4\n",
        "Suggestions for next steps in analyzing this data, which may include suggesting revisiting this model adding specific data features to achieve a better explanation or a better prediction"
      ],
      "metadata": {
        "id": "3pVwwiof_ts9"
      }
    },
    {
      "cell_type": "markdown",
      "source": [
        "---\n",
        "\n",
        "1.   **Feature engineering:** Revisit the feature selection process and consider adding new features to the dataset.\n",
        "2.   **Hyperparameter tuning:** Experiment with different hyperparameters of the model to improve its performance.\n",
        "3.   **Outlier detection:** Identify and remove outliers from the dataset that may be affecting the performance of the model.\n",
        "4.   **Feature importance analysis:** Perform a feature importance analysis to identify the most important features that are driving the model's predictions. This can help to identify areas where additional data collection or feature engineering may be needed.\n",
        "5.   **Regularization:** Experiment with different regularization techniques such as L1 or L2 regularization to prevent overfitting and improve the model's performance."
      ],
      "metadata": {
        "id": "Wwvsi2m0AylO"
      }
    }
  ]
}